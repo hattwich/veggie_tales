{
 "cells": [
  {
   "cell_type": "markdown",
   "metadata": {},
   "source": [
    "## Image classification (16 classes) with pretrained model inceptiondeep"
   ]
  },
  {
   "cell_type": "code",
   "execution_count": 1,
   "metadata": {},
   "outputs": [],
   "source": [
    "import PIL.Image as Image\n",
    "import os\n",
    "\n",
    "import tensorflow as tf\n",
    "import tensorflow_hub as hub\n",
    "\n",
    "from tensorflow import keras\n",
    "from tensorflow.keras import layers\n",
    "from tensorflow.keras.models import Sequential\n",
    "import numpy as np\n",
    "import matplotlib.pyplot as plt\n",
    "from tensorflow.keras.models import load_model\n",
    "from tensorflow.keras.callbacks import EarlyStopping\n",
    "\n",
    "\n",
    "from tensorflow.keras.preprocessing.image import ImageDataGenerator\n",
    "from tensorflow.keras.applications.inception_v3 import InceptionV3\n",
    "from tensorflow.keras.layers import Dense, Dropout, BatchNormalization\n",
    "from tensorflow.keras.models import Model\n",
    "from tensorflow.keras.optimizers import Adam\n",
    "from tensorflow.keras.preprocessing import image\n"
   ]
  },
  {
   "attachments": {},
   "cell_type": "markdown",
   "metadata": {},
   "source": [
    "### ImageDataGenerator and Data Augmentation\n"
   ]
  },
  {
   "cell_type": "code",
   "execution_count": 2,
   "metadata": {},
   "outputs": [],
   "source": [
    "# Create ImageDataGenerator + Data Augmentation\n",
    "datagen = ImageDataGenerator(\n",
    "    rescale=1./255,\n",
    "    rotation_range=40,\n",
    "    width_shift_range=0.2,\n",
    "    height_shift_range=0.2,\n",
    "    shear_range=0.2,\n",
    "    zoom_range=0.2,\n",
    "    horizontal_flip=True,\n",
    "    fill_mode='nearest',\n",
    "    validation_split=0.2\n",
    ")\n"
   ]
  },
  {
   "cell_type": "code",
   "execution_count": 3,
   "metadata": {},
   "outputs": [],
   "source": [
    "# Setting the default parameters\n",
    "img_shape = (224, 224, 3)\n",
    "img_size = (224, 224)\n",
    "batch_size = 32\n"
   ]
  },
  {
   "cell_type": "code",
   "execution_count": 4,
   "metadata": {},
   "outputs": [
    {
     "name": "stdout",
     "output_type": "stream",
     "text": [
      "Found 1139 images belonging to 16 classes.\n",
      "Found 275 images belonging to 16 classes.\n"
     ]
    }
   ],
   "source": [
    "# Data upload and splitting into train and validation sets\n",
    "training_data = datagen.flow_from_directory(\n",
    "    'data/veg_16_classes/train',\n",
    "    target_size=img_size,\n",
    "    batch_size=batch_size,\n",
    "    class_mode='categorical',\n",
    "    subset='training')\n",
    "\n",
    "valid_data = datagen.flow_from_directory(\n",
    "    'data/veg_16_classes/train',\n",
    "    target_size=img_size,\n",
    "    batch_size=batch_size,\n",
    "    class_mode='categorical',\n",
    "    subset='validation')\n"
   ]
  },
  {
   "cell_type": "code",
   "execution_count": 5,
   "metadata": {},
   "outputs": [
    {
     "name": "stdout",
     "output_type": "stream",
     "text": [
      "There are 16 categories\n"
     ]
    }
   ],
   "source": [
    "# Extracting the number of categories\n",
    "categ_count = training_data.num_classes\n",
    "print(f\"There are {categ_count} categories\")"
   ]
  },
  {
   "cell_type": "code",
   "execution_count": 6,
   "metadata": {},
   "outputs": [
    {
     "data": {
      "text/plain": [
       "['cabbage',\n",
       " 'capsicum',\n",
       " 'carrot',\n",
       " 'cauliflower',\n",
       " 'chilli pepper',\n",
       " 'cucumber',\n",
       " 'eggplant',\n",
       " 'garlic',\n",
       " 'ginger',\n",
       " 'lettuce',\n",
       " 'onion',\n",
       " 'peas',\n",
       " 'potato',\n",
       " 'spinach',\n",
       " 'sweetcorn',\n",
       " 'tomato']"
      ]
     },
     "execution_count": 6,
     "metadata": {},
     "output_type": "execute_result"
    }
   ],
   "source": [
    "class_names = training_data.class_indices\n",
    "class_names = list(class_names.keys())\n",
    "class_names"
   ]
  },
  {
   "attachments": {},
   "cell_type": "markdown",
   "metadata": {},
   "source": [
    "### Builing the model"
   ]
  },
  {
   "cell_type": "code",
   "execution_count": 7,
   "metadata": {},
   "outputs": [],
   "source": [
    "# load pre-trained InceptionV3\n",
    "base_model = InceptionV3(\n",
    "    weights='imagenet', include_top=False, input_shape=img_shape, pooling='avg')\n",
    "\n",
    "# Freezing/ Unfreezing the layers\n",
    "for layer in base_model.layers[:-15]:\n",
    "    layer.trainable = False\n",
    "\n",
    "for layer in base_model.layers[-15:]:\n",
    "    layer.trainable = True\n"
   ]
  },
  {
   "cell_type": "code",
   "execution_count": 8,
   "metadata": {},
   "outputs": [
    {
     "name": "stderr",
     "output_type": "stream",
     "text": [
      "WARNING:absl:At this time, the v2.11+ optimizer `tf.keras.optimizers.Adam` runs slowly on M1/M2 Macs, please use the legacy Keras optimizer instead, located at `tf.keras.optimizers.legacy.Adam`.\n",
      "WARNING:absl:There is a known slowdown when using v2.11+ Keras optimizers on M1/M2 Macs. Falling back to the legacy Keras optimizer, i.e., `tf.keras.optimizers.legacy.Adam`.\n"
     ]
    }
   ],
   "source": [
    "# Insert the base_model into the model to fit and compile\n",
    "x = base_model.output\n",
    "x = BatchNormalization(axis=-1, momentum=0.99, epsilon=0.001)(x)\n",
    "x = Dense(128, activation='relu')(x)\n",
    "x = Dropout(0.2)(x)\n",
    "predictions = Dense(categ_count, activation='softmax')(x)\n",
    "\n",
    "model = Model(inputs=base_model.input, outputs=predictions)\n",
    "model.compile(optimizer=Adam(learning_rate=0.001),\n",
    "              loss='categorical_crossentropy', metrics=['accuracy'])\n"
   ]
  },
  {
   "cell_type": "code",
   "execution_count": 9,
   "metadata": {},
   "outputs": [],
   "source": [
    "early_stopping = EarlyStopping(\n",
    "    monitor='val_accuracy', patience=5, restore_best_weights=True)\n"
   ]
  },
  {
   "cell_type": "code",
   "execution_count": 11,
   "metadata": {},
   "outputs": [
    {
     "name": "stderr",
     "output_type": "stream",
     "text": [
      "/var/folders/_d/423mlwpd6h5c2sqfcynjvjgw0000gp/T/ipykernel_41004/3444606684.py:5: UserWarning: `Model.fit_generator` is deprecated and will be removed in a future version. Please use `Model.fit`, which supports generators.\n",
      "  history = model.fit_generator(training_data,\n"
     ]
    },
    {
     "name": "stdout",
     "output_type": "stream",
     "text": [
      "Epoch 1/20\n",
      "35/35 [==============================] - 35s 1s/step - loss: 0.4857 - accuracy: 0.8464 - val_loss: 0.4163 - val_accuracy: 0.8672\n",
      "Epoch 2/20\n",
      "35/35 [==============================] - 35s 982ms/step - loss: 0.4184 - accuracy: 0.8799 - val_loss: 0.2800 - val_accuracy: 0.9180\n",
      "Epoch 3/20\n",
      "35/35 [==============================] - 34s 957ms/step - loss: 0.2609 - accuracy: 0.9178 - val_loss: 0.3253 - val_accuracy: 0.9023\n",
      "Epoch 4/20\n",
      "35/35 [==============================] - 34s 979ms/step - loss: 0.2429 - accuracy: 0.9250 - val_loss: 0.2611 - val_accuracy: 0.9219\n",
      "Epoch 5/20\n",
      "35/35 [==============================] - 35s 982ms/step - loss: 0.2124 - accuracy: 0.9350 - val_loss: 0.2756 - val_accuracy: 0.9258\n",
      "Epoch 6/20\n",
      "35/35 [==============================] - 35s 999ms/step - loss: 0.1733 - accuracy: 0.9431 - val_loss: 0.2739 - val_accuracy: 0.9023\n",
      "Epoch 7/20\n",
      "35/35 [==============================] - 34s 985ms/step - loss: 0.1961 - accuracy: 0.9413 - val_loss: 0.2210 - val_accuracy: 0.9297\n",
      "Epoch 8/20\n",
      "35/35 [==============================] - 37s 1s/step - loss: 0.1708 - accuracy: 0.9467 - val_loss: 0.2685 - val_accuracy: 0.9062\n",
      "Epoch 9/20\n",
      "35/35 [==============================] - 34s 954ms/step - loss: 0.1328 - accuracy: 0.9566 - val_loss: 0.3577 - val_accuracy: 0.8789\n",
      "Epoch 10/20\n",
      "35/35 [==============================] - 34s 985ms/step - loss: 0.1527 - accuracy: 0.9458 - val_loss: 0.4085 - val_accuracy: 0.8984\n",
      "Epoch 11/20\n",
      "35/35 [==============================] - 35s 1s/step - loss: 0.1673 - accuracy: 0.9476 - val_loss: 0.3712 - val_accuracy: 0.8867\n",
      "Epoch 12/20\n",
      "35/35 [==============================] - 36s 1s/step - loss: 0.1234 - accuracy: 0.9603 - val_loss: 0.2998 - val_accuracy: 0.9180\n",
      "Epoch 13/20\n",
      "35/35 [==============================] - 34s 972ms/step - loss: 0.1062 - accuracy: 0.9711 - val_loss: 0.4510 - val_accuracy: 0.9023\n",
      "Epoch 14/20\n",
      "35/35 [==============================] - 34s 972ms/step - loss: 0.1174 - accuracy: 0.9584 - val_loss: 0.3373 - val_accuracy: 0.8906\n",
      "Epoch 15/20\n",
      "35/35 [==============================] - 35s 985ms/step - loss: 0.1359 - accuracy: 0.9575 - val_loss: 0.3036 - val_accuracy: 0.9023\n",
      "Epoch 16/20\n",
      "35/35 [==============================] - 36s 1s/step - loss: 0.1078 - accuracy: 0.9657 - val_loss: 0.3165 - val_accuracy: 0.9258\n",
      "Epoch 17/20\n",
      "35/35 [==============================] - 36s 1s/step - loss: 0.1010 - accuracy: 0.9675 - val_loss: 0.4030 - val_accuracy: 0.8867\n",
      "Epoch 18/20\n",
      "35/35 [==============================] - 35s 990ms/step - loss: 0.0824 - accuracy: 0.9720 - val_loss: 0.2669 - val_accuracy: 0.9180\n",
      "Epoch 19/20\n",
      "35/35 [==============================] - 34s 973ms/step - loss: 0.1014 - accuracy: 0.9621 - val_loss: 0.3882 - val_accuracy: 0.8906\n",
      "Epoch 20/20\n",
      "35/35 [==============================] - 35s 982ms/step - loss: 0.0781 - accuracy: 0.9693 - val_loss: 0.2539 - val_accuracy: 0.9102\n"
     ]
    }
   ],
   "source": [
    "# Fit the model\n",
    "step_size_train = training_data.n // training_data.batch_size\n",
    "step_size_valid = valid_data.n // valid_data.batch_size\n",
    "\n",
    "history = model.fit_generator(training_data,\n",
    "                              steps_per_epoch=step_size_train,\n",
    "                              validation_data=valid_data,\n",
    "                              validation_steps=step_size_valid,\n",
    "                              epochs=20,\n",
    "                              verbose=1\n",
    "                             )\n"
   ]
  },
  {
   "attachments": {},
   "cell_type": "markdown",
   "metadata": {
    "jp-MarkdownHeadingCollapsed": true
   },
   "source": [
    "### Plotting the results\n"
   ]
  },
  {
   "cell_type": "code",
   "execution_count": 11,
   "metadata": {},
   "outputs": [
    {
     "data": {
      "image/png": "[encoded data removed]",
      "text/plain": [
       "<Figure size 600x200 with 2 Axes>"
      ]
     },
     "metadata": {},
     "output_type": "display_data"
    }
   ],
   "source": [
    "# Plot the Accuracy and Loss between Training and Validations sets\n",
    "\n",
    "plt.figure(figsize=(6, 2))\n",
    "\n",
    "plt.subplot(1, 2, 1)\n",
    "plt.plot(history.epoch, history.history['accuracy'], label='Training')\n",
    "plt.plot(history.epoch, history.history['val_accuracy'], label='validation')\n",
    "\n",
    "plt.title(\"Accuracy\")\n",
    "plt.legend()\n",
    "\n",
    "plt.subplot(1, 2, 2)\n",
    "plt.plot(history.epoch, history.history['loss'], label='Training')\n",
    "plt.plot(history.epoch, history.history['val_loss'], label='validation')\n",
    "\n",
    "plt.title(\"Loss\")\n",
    "plt.legend()\n",
    "plt.show()\n"
   ]
  },
  {
   "attachments": {},
   "cell_type": "markdown",
   "metadata": {},
   "source": [
    "### Saving the model"
   ]
  },
  {
   "cell_type": "code",
   "execution_count": 15,
   "metadata": {},
   "outputs": [],
   "source": [
    "# Save the model\n",
    "folder_path = 'models/'\n",
    "\n",
    "model_name = 'inception_16cl_20ep.h5'\n",
    "model.save(os.path.join(folder_path, model_name), save_format='h5')"
   ]
  },
  {
   "attachments": {},
   "cell_type": "markdown",
   "metadata": {},
   "source": [
    "### Checking the model"
   ]
  },
  {
   "cell_type": "code",
   "execution_count": 13,
   "metadata": {},
   "outputs": [],
   "source": [
    "def preprocess_image(image_path):\n",
    "    image = Image.open(image_path).convert('RGB')  # Open image in RGB format\n",
    "    # Resize the image to match the model's input size\n",
    "    image = image.resize((224, 224))\n",
    "    image_array = tf.keras.preprocessing.image.img_to_array(\n",
    "        image)  # Convert image to numpy array\n",
    "    image_array = image_array / 255.0  # Normalize image array\n",
    "    return image_array\n",
    "\n",
    "\n",
    "def predict_image(image_path, model):\n",
    "    preprocessed_image = preprocess_image(image_path)\n",
    "    preprocessed_image = tf.expand_dims(\n",
    "        preprocessed_image, axis=0)  # Add batch dimension\n",
    "    predictions = model.predict(preprocessed_image)\n",
    "    predicted_class = tf.argmax(predictions[0]).numpy()\n",
    "    predicted_class_name = class_names[predicted_class]\n",
    "    return predicted_class_name\n"
   ]
  },
  {
   "cell_type": "code",
   "execution_count": 14,
   "metadata": {},
   "outputs": [
    {
     "name": "stdout",
     "output_type": "stream",
     "text": [
      "1/1 [==============================] - 0s 475ms/step\n",
      "Predicted class: tomato\n",
      "1/1 [==============================] - 0s 40ms/step\n",
      "Predicted class: tomato\n",
      "1/1 [==============================] - 0s 41ms/step\n",
      "Predicted class: tomato\n",
      "1/1 [==============================] - 0s 43ms/step\n",
      "Predicted class: tomato\n",
      "1/1 [==============================] - 0s 44ms/step\n",
      "Predicted class: tomato\n",
      "1/1 [==============================] - 0s 40ms/step\n",
      "Predicted class: tomato\n",
      "1/1 [==============================] - 0s 42ms/step\n",
      "Predicted class: tomato\n"
     ]
    }
   ],
   "source": [
    "root = '/Users/G/Desktop/Documents/Formazione in Data Science/WBS/WBS Bootcamp/10. Final Project/data'\n",
    "for i in range(1, 8):\n",
    "    image_path = root + f'/testing_images/tomato/Image_{i}.jpg'\n",
    "    predicted_class = predict_image(image_path, model)\n",
    "    print('Predicted class:', predicted_class)"
   ]
  },
  {
   "cell_type": "code",
   "execution_count": null,
   "metadata": {},
   "outputs": [],
   "source": []
  }
 ],
 "metadata": {
  "kernelspec": {
   "display_name": "Python 3 (ipykernel)",
   "language": "python",
   "name": "python3"
  },
  "language_info": {
   "codemirror_mode": {
    "name": "ipython",
    "version": 3
   },
   "file_extension": ".py",
   "mimetype": "text/x-python",
   "name": "python",
   "nbconvert_exporter": "python",
   "pygments_lexer": "ipython3",
   "version": "3.10.11"
  }
 },
 "nbformat": 4,
 "nbformat_minor": 4
}
